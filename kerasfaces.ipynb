{
  "nbformat": 4,
  "nbformat_minor": 0,
  "metadata": {
    "colab": {
      "name": "kerasfaces.ipynb",
      "version": "0.3.2",
      "provenance": [],
      "include_colab_link": true
    },
    "kernelspec": {
      "name": "python3",
      "display_name": "Python 3"
    },
    "accelerator": "GPU"
  },
  "cells": [
    {
      "cell_type": "markdown",
      "metadata": {
        "id": "view-in-github",
        "colab_type": "text"
      },
      "source": [
        "<a href=\"https://colab.research.google.com/github/sayedmohamedscu/Face-detection-keras/blob/master/kerasfaces.ipynb\" target=\"_parent\"><img src=\"https://colab.research.google.com/assets/colab-badge.svg\" alt=\"Open In Colab\"/></a>"
      ]
    },
    {
      "metadata": {
        "id": "EXX2Ju_0KyF1",
        "colab_type": "code",
        "outputId": "44fb89b0-d4ed-4e9e-f6ff-c52502061bc3",
        "colab": {
          "base_uri": "https://localhost:8080/",
          "height": 122
        }
      },
      "cell_type": "code",
      "source": [
        "from google.colab import drive\n",
        "drive.mount('/content/drive')"
      ],
      "execution_count": 0,
      "outputs": [
        {
          "output_type": "stream",
          "text": [
            "Go to this URL in a browser: https://accounts.google.com/o/oauth2/auth?client_id=947318989803-6bn6qk8qdgf4n4g3pfee6491hc0brc4i.apps.googleusercontent.com&redirect_uri=urn%3Aietf%3Awg%3Aoauth%3A2.0%3Aoob&scope=email%20https%3A%2F%2Fwww.googleapis.com%2Fauth%2Fdocs.test%20https%3A%2F%2Fwww.googleapis.com%2Fauth%2Fdrive%20https%3A%2F%2Fwww.googleapis.com%2Fauth%2Fdrive.photos.readonly%20https%3A%2F%2Fwww.googleapis.com%2Fauth%2Fpeopleapi.readonly&response_type=code\n",
            "\n",
            "Enter your authorization code:\n",
            "··········\n",
            "Mounted at /content/drive\n"
          ],
          "name": "stdout"
        }
      ]
    },
    {
      "metadata": {
        "id": "nD6AUwyiLDDp",
        "colab_type": "code",
        "outputId": "b34b37e0-598a-4863-c2f5-2cf9d7e3f503",
        "colab": {
          "base_uri": "https://localhost:8080/",
          "height": 2227
        }
      },
      "cell_type": "code",
      "source": [
        "import os\n",
        "os.chdir(\"/content/drive/My Drive/\")\n",
        "!ls"
      ],
      "execution_count": 0,
      "outputs": [
        {
          "output_type": "stream",
          "text": [
            "'15555555555 ya hazeeem .pdf'\n",
            "'16.4.2017-promasr.com .ehi'\n",
            " 20170820_001.m4a\n",
            " 20170820_002.m4a\n",
            " 20170820_003.m4a\n",
            " 20376103_1969918213239757_3043836327352081043_n.jpg\n",
            " 4_5825822678291841196.ePro\n",
            " 910f530c-bc85-43e7-9cb2-a4e6d9c33a18.apk\n",
            " a8f3eacff0d334b725da71a508df768e.ehi\n",
            " admob.apk\n",
            " ah.apk\n",
            " Android.apk\n",
            " app-debug.apk\n",
            " -arr_4770903.apk\n",
            " B612_20170203_223937.jpg\n",
            " B612_20170203_224036.jpg\n",
            " B612_20170408_110643.jpg\n",
            " B612_20170408_170644.jpg\n",
            " B612_20171227_144221.jpg\n",
            " B612_20171227_144305.jpg\n",
            " B612_20171227_144404.jpg\n",
            "'back - Elsayed mohamed.png'\n",
            " back.png\n",
            "'base (1).apk'\n",
            "'base (2).apk'\n",
            " base.apk\n",
            "'Basics of Molecular Biology.ppt.ppt'\n",
            "'BBC Results - Lesson 1.gsheet'\n",
            " bluetoth_rgb_led.ino\n",
            " -Chatty_talk_4823464.apk\n",
            "'Colab Notebooks'\n",
            " com_sayed_wabgwtvykqukietxdihq.zip\n",
            " concept.pdf\n",
            " Cont1.apk\n",
            " Data_Augmentation_Medium\n",
            " Document2.docx\n",
            "'Document from Sayed (1).pdf'\n",
            "'Document from Sayed (2).pdf'\n",
            "'Document from Sayed.pdf'\n",
            " face_classifier.zip\n",
            "'face_classifier.zip (Unzipped Files)'\n",
            "'face_classifier.zip (Unzipped Files) (1)'\n",
            " facess\n",
            "'fescu - Elsayed mohamed.png'\n",
            " fescu.png\n",
            " flower_data\n",
            "'food safety duby.gform'\n",
            "'Gunners (2).pdf'\n",
            "'Gunners UAV.gform'\n",
            "'Gunners UAV (الردود).gsheet'\n",
            "'Height and hand length of Udacians - Lesson 1.gsheet'\n",
            "'How many Facebook friends do Udacians have? - Lesson 3.gsheet'\n",
            "'http:  www.slid.txt'\n",
            " IMG_20161016_113718.jpg\n",
            " IMG_٢٠١٧٠٢٢٢_٢٣٣٤١٠.jpg\n",
            " IMG_٢٠١٧٠٢٢٢_٢٣٣٤٥٨.jpg\n",
            " IMG_٢٠١٧١١١٠_٠٢١٣٣٩.jpg\n",
            " imgtopdf_generated_0206182251036.pdf\n",
            "'Introduction to Python Programming Videos'\n",
            "'Introduction to Python Programming Videos.zip'\n",
            "'line_follower (2).ino'\n",
            " ma.pdf\n",
            "'material ملخص.pdf'\n",
            "'math 3 .pdf'\n",
            " mechanics-2-sheets-sol-full-Q.pdf\n",
            " mink.apk\n",
            " MultipleServoControlApp.rar\n",
            "'My_CV (1).pdf'\n",
            " names.pdf\n",
            " names.xlsx\n",
            " nam.pdf\n",
            " new\n",
            " newc11.apk\n",
            "'New Microsoft Word Document.docx'\n",
            " new_smat_lib.ino\n",
            " Oliver_Twist.pdf\n",
            " phy.pdf\n",
            "'pics to word job Oraion systems.gform'\n",
            "'PLAKAT BOM.gsheet'\n",
            " predator-drone-2.snapshot.1.zip\n",
            "'presentation .pptx'\n",
            "'Pro Config (1).ehi'\n",
            "'Pro Config.ehi'\n",
            "'Programming Robots with ROS 1.pdf'\n",
            " Project_Drawing_Robot.gslides\n",
            "'Proposal [Autosaved].pptx'\n",
            " proposal.docx\n",
            " Proposal.pptx\n",
            " quad.pdf\n",
            " report.docx\n",
            " RibbonApp.reg\n",
            "'ROS Ambassadors program (1).pdf'\n",
            "'ROS Ambassadors program.pdf'\n",
            "'rs_st_223 (3).pdf'\n",
            " sayed.apk\n",
            " sayed.pdf\n",
            " Screenshot_2017-02-25-02-25-53.png\n",
            " Screenshot_2017-02-25-02-27-10.png\n",
            " siren-uav-1.snapshot.4.zip\n",
            " stfart.scribe\n",
            "'Test Bank C.pdf'\n",
            "'the messenger.apk'\n",
            " Touch_test.apk\n",
            " UAV\n",
            " uav.docx\n",
            " uavporp.pdf\n",
            " UAV.xlsx\n",
            "'UMSICOfficialCompetitionRules (1).pdf'\n",
            " UMSICOfficialCompetitionRules.pdf\n",
            " UMSICRegistration.docx\n",
            " Untitled.png\n",
            " VID_20180319_174747.mp4\n",
            "'WhatsApp Chat with Nesma.txt'\n",
            " yolo.h5\n",
            "'Your ref.pdf'\n",
            " اسس.pdf\n",
            " الفريزة\n",
            " المثقاب\n",
            "'انتاج ١ 😂😂.m4a'\n",
            "'جامعة قناة السويس.docx'\n",
            " حل-شيت-القياده.pdf\n",
            "' #خاص_صفحه_وجروب_يالا_نساعد_المصريين_بالامارات'\n",
            "'عملى فيزياء ملخص.pdf'\n",
            "'مجلد بلا عنوان'\n",
            "'مستند جديد ٢٠١٧-٠٦-١٣.pdf'\n",
            "\"مشاركة 'GPS.doc'\"\n",
            "\"مشاركة 'UMSICOfficialCompetitionRules.pdf'.pdf\"\n",
            " مقايسة.xlsx\n",
            "'منصة العمل الحر (File responses)'\n",
            "'منصة العمل الحر.gform'\n"
          ],
          "name": "stdout"
        }
      ]
    },
    {
      "metadata": {
        "id": "TmY4eWvjLmH8",
        "colab_type": "code",
        "colab": {}
      },
      "cell_type": "code",
      "source": [
        "import keras\n",
        "from keras import models\n",
        "from keras import layers\n",
        "\n",
        "from keras.layers import Dense,GlobalAveragePooling2D,Flatten\n",
        "\n"
      ],
      "execution_count": 0,
      "outputs": []
    },
    {
      "metadata": {
        "id": "ewPUo1j2m56T",
        "colab_type": "code",
        "outputId": "6924da9b-de91-4521-91f1-0f19f45fae47",
        "colab": {
          "base_uri": "https://localhost:8080/",
          "height": 782
        }
      },
      "cell_type": "code",
      "source": [
        "from keras.applications import VGG16\n",
        "\n",
        "base_model = VGG16(weights='imagenet',\n",
        "                  include_top=False,\n",
        "                  input_shape=(224, 224, 3))\n",
        "base_model.summary()\n"
      ],
      "execution_count": 0,
      "outputs": [
        {
          "output_type": "stream",
          "text": [
            "_________________________________________________________________\n",
            "Layer (type)                 Output Shape              Param #   \n",
            "=================================================================\n",
            "input_8 (InputLayer)         (None, 224, 224, 3)       0         \n",
            "_________________________________________________________________\n",
            "block1_conv1 (Conv2D)        (None, 224, 224, 64)      1792      \n",
            "_________________________________________________________________\n",
            "block1_conv2 (Conv2D)        (None, 224, 224, 64)      36928     \n",
            "_________________________________________________________________\n",
            "block1_pool (MaxPooling2D)   (None, 112, 112, 64)      0         \n",
            "_________________________________________________________________\n",
            "block2_conv1 (Conv2D)        (None, 112, 112, 128)     73856     \n",
            "_________________________________________________________________\n",
            "block2_conv2 (Conv2D)        (None, 112, 112, 128)     147584    \n",
            "_________________________________________________________________\n",
            "block2_pool (MaxPooling2D)   (None, 56, 56, 128)       0         \n",
            "_________________________________________________________________\n",
            "block3_conv1 (Conv2D)        (None, 56, 56, 256)       295168    \n",
            "_________________________________________________________________\n",
            "block3_conv2 (Conv2D)        (None, 56, 56, 256)       590080    \n",
            "_________________________________________________________________\n",
            "block3_conv3 (Conv2D)        (None, 56, 56, 256)       590080    \n",
            "_________________________________________________________________\n",
            "block3_pool (MaxPooling2D)   (None, 28, 28, 256)       0         \n",
            "_________________________________________________________________\n",
            "block4_conv1 (Conv2D)        (None, 28, 28, 512)       1180160   \n",
            "_________________________________________________________________\n",
            "block4_conv2 (Conv2D)        (None, 28, 28, 512)       2359808   \n",
            "_________________________________________________________________\n",
            "block4_conv3 (Conv2D)        (None, 28, 28, 512)       2359808   \n",
            "_________________________________________________________________\n",
            "block4_pool (MaxPooling2D)   (None, 14, 14, 512)       0         \n",
            "_________________________________________________________________\n",
            "block5_conv1 (Conv2D)        (None, 14, 14, 512)       2359808   \n",
            "_________________________________________________________________\n",
            "block5_conv2 (Conv2D)        (None, 14, 14, 512)       2359808   \n",
            "_________________________________________________________________\n",
            "block5_conv3 (Conv2D)        (None, 14, 14, 512)       2359808   \n",
            "_________________________________________________________________\n",
            "block5_pool (MaxPooling2D)   (None, 7, 7, 512)         0         \n",
            "=================================================================\n",
            "Total params: 14,714,688\n",
            "Trainable params: 14,714,688\n",
            "Non-trainable params: 0\n",
            "_________________________________________________________________\n"
          ],
          "name": "stdout"
        }
      ]
    },
    {
      "metadata": {
        "id": "Y2t6J5IpoSpG",
        "colab_type": "code",
        "outputId": "fd12b812-4770-45d1-edcb-676d6db37e4b",
        "colab": {
          "base_uri": "https://localhost:8080/",
          "height": 918
        }
      },
      "cell_type": "code",
      "source": [
        "x=base_model.output\n",
        "from keras.models import Model\n",
        "\n",
        "x = Flatten()(x)\n",
        "x = Dense(256, activation='relu')(x)\n",
        "x = Dense(124, activation='relu')(x)\n",
        "x = Dense(1, activation='sigmoid')(x)\n",
        "model=Model(inputs=base_model.input,outputs=x)\n",
        "model.summary()\n"
      ],
      "execution_count": 0,
      "outputs": [
        {
          "output_type": "stream",
          "text": [
            "_________________________________________________________________\n",
            "Layer (type)                 Output Shape              Param #   \n",
            "=================================================================\n",
            "input_8 (InputLayer)         (None, 224, 224, 3)       0         \n",
            "_________________________________________________________________\n",
            "block1_conv1 (Conv2D)        (None, 224, 224, 64)      1792      \n",
            "_________________________________________________________________\n",
            "block1_conv2 (Conv2D)        (None, 224, 224, 64)      36928     \n",
            "_________________________________________________________________\n",
            "block1_pool (MaxPooling2D)   (None, 112, 112, 64)      0         \n",
            "_________________________________________________________________\n",
            "block2_conv1 (Conv2D)        (None, 112, 112, 128)     73856     \n",
            "_________________________________________________________________\n",
            "block2_conv2 (Conv2D)        (None, 112, 112, 128)     147584    \n",
            "_________________________________________________________________\n",
            "block2_pool (MaxPooling2D)   (None, 56, 56, 128)       0         \n",
            "_________________________________________________________________\n",
            "block3_conv1 (Conv2D)        (None, 56, 56, 256)       295168    \n",
            "_________________________________________________________________\n",
            "block3_conv2 (Conv2D)        (None, 56, 56, 256)       590080    \n",
            "_________________________________________________________________\n",
            "block3_conv3 (Conv2D)        (None, 56, 56, 256)       590080    \n",
            "_________________________________________________________________\n",
            "block3_pool (MaxPooling2D)   (None, 28, 28, 256)       0         \n",
            "_________________________________________________________________\n",
            "block4_conv1 (Conv2D)        (None, 28, 28, 512)       1180160   \n",
            "_________________________________________________________________\n",
            "block4_conv2 (Conv2D)        (None, 28, 28, 512)       2359808   \n",
            "_________________________________________________________________\n",
            "block4_conv3 (Conv2D)        (None, 28, 28, 512)       2359808   \n",
            "_________________________________________________________________\n",
            "block4_pool (MaxPooling2D)   (None, 14, 14, 512)       0         \n",
            "_________________________________________________________________\n",
            "block5_conv1 (Conv2D)        (None, 14, 14, 512)       2359808   \n",
            "_________________________________________________________________\n",
            "block5_conv2 (Conv2D)        (None, 14, 14, 512)       2359808   \n",
            "_________________________________________________________________\n",
            "block5_conv3 (Conv2D)        (None, 14, 14, 512)       2359808   \n",
            "_________________________________________________________________\n",
            "block5_pool (MaxPooling2D)   (None, 7, 7, 512)         0         \n",
            "_________________________________________________________________\n",
            "flatten_8 (Flatten)          (None, 25088)             0         \n",
            "_________________________________________________________________\n",
            "dense_23 (Dense)             (None, 256)               6422784   \n",
            "_________________________________________________________________\n",
            "dense_24 (Dense)             (None, 124)               31868     \n",
            "_________________________________________________________________\n",
            "dense_25 (Dense)             (None, 1)                 125       \n",
            "=================================================================\n",
            "Total params: 21,169,465\n",
            "Trainable params: 21,169,465\n",
            "Non-trainable params: 0\n",
            "_________________________________________________________________\n"
          ],
          "name": "stdout"
        }
      ]
    },
    {
      "metadata": {
        "id": "dyqqcA3GMGXR",
        "colab_type": "code",
        "outputId": "1d97ddf7-057d-4581-c089-f6f6853275be",
        "colab": {
          "base_uri": "https://localhost:8080/",
          "height": 306
        }
      },
      "cell_type": "code",
      "source": [
        "model = models.Sequential()\n",
        "model.add(conv_base)\n",
        "model.add(layers.Flatten())\n",
        "model.add(layers.Dense(256, activation='relu'))\n",
        "model.add(layers.Dense(124, activation='relu'))\n",
        "model.add(layers.Dense(1, activation='sigmoid'))\n",
        "model.summary()"
      ],
      "execution_count": 0,
      "outputs": [
        {
          "output_type": "stream",
          "text": [
            "_________________________________________________________________\n",
            "Layer (type)                 Output Shape              Param #   \n",
            "=================================================================\n",
            "vgg16 (Model)                (None, 7, 7, 512)         14714688  \n",
            "_________________________________________________________________\n",
            "flatten_4 (Flatten)          (None, 25088)             0         \n",
            "_________________________________________________________________\n",
            "dense_8 (Dense)              (None, 256)               6422784   \n",
            "_________________________________________________________________\n",
            "dense_9 (Dense)              (None, 124)               31868     \n",
            "_________________________________________________________________\n",
            "dense_10 (Dense)             (None, 1)                 125       \n",
            "=================================================================\n",
            "Total params: 21,169,465\n",
            "Trainable params: 21,169,465\n",
            "Non-trainable params: 0\n",
            "_________________________________________________________________\n"
          ],
          "name": "stdout"
        }
      ]
    },
    {
      "metadata": {
        "id": "7DqBQWc0o2J_",
        "colab_type": "code",
        "colab": {}
      },
      "cell_type": "code",
      "source": [
        "conv_base.trainable = True\n",
        "\n",
        "set_trainable = False\n",
        "for layer in conv_base.layers:\n",
        "    if layer.name == 'block5_conv1':\n",
        "        set_trainable = True\n",
        "    if set_trainable:\n",
        "        layer.trainable = True\n",
        "    else:\n",
        "        layer.trainable = False"
      ],
      "execution_count": 0,
      "outputs": []
    },
    {
      "metadata": {
        "id": "g3UcmlGOolQ_",
        "colab_type": "code",
        "colab": {}
      },
      "cell_type": "code",
      "source": [
        ""
      ],
      "execution_count": 0,
      "outputs": []
    },
    {
      "metadata": {
        "id": "4GUzc35UnE9w",
        "colab_type": "code",
        "outputId": "f173d0d0-8b9d-4f0a-a603-dabef5b55e5a",
        "colab": {
          "base_uri": "https://localhost:8080/",
          "height": 51
        }
      },
      "cell_type": "code",
      "source": [
        "import os\n",
        "import numpy as np\n",
        "from keras.preprocessing.image import ImageDataGenerator\n",
        "\n",
        "#base_dir = '/content/drive/My Drive/facess'\n",
        "\n",
        "from keras.preprocessing.image import ImageDataGenerator\n",
        "\n",
        "train_datagen = ImageDataGenerator(\n",
        "      rescale=1./255,\n",
        "      rotation_range=40,\n",
        "      width_shift_range=0.2,\n",
        "      height_shift_range=0.2,\n",
        "      shear_range=0.2,\n",
        "      zoom_range=0.2,\n",
        "      horizontal_flip=True,\n",
        "      fill_mode='nearest')\n",
        "\n",
        "# Note that the validation data should not be augmented!\n",
        "test_datagen = ImageDataGenerator(rescale=1./255)\n",
        "\n",
        "train_generator = train_datagen.flow_from_directory(\n",
        "        # This is the target directory\n",
        "        '/content/drive/My Drive/facess/train',\n",
        "        # All images will be resized to 150x150\n",
        "        target_size=(224, 224),\n",
        "        batch_size=20,\n",
        "        # Since we use binary_crossentropy loss, we need binary labels\n",
        "        class_mode='binary')\n",
        "\n",
        "validation_generator = test_datagen.flow_from_directory(\n",
        "    '/content/drive/My Drive/facess/valid',\n",
        "        \n",
        "        target_size=(224, 224),\n",
        "        batch_size=20,\n",
        "        class_mode='binary')\n",
        "\n"
      ],
      "execution_count": 0,
      "outputs": [
        {
          "output_type": "stream",
          "text": [
            "Found 2644 images belonging to 2 classes.\n",
            "Found 1869 images belonging to 2 classes.\n"
          ],
          "name": "stdout"
        }
      ]
    },
    {
      "metadata": {
        "id": "1S_cwdSEwv-8",
        "colab_type": "code",
        "colab": {}
      },
      "cell_type": "code",
      "source": [
        "from keras import models\n",
        "from keras import layers\n",
        "from keras import optimizers"
      ],
      "execution_count": 0,
      "outputs": []
    },
    {
      "metadata": {
        "id": "XcVCnVmSwVU_",
        "colab_type": "code",
        "outputId": "6a0e2232-17e8-4ade-bb98-b867cf7986a7",
        "colab": {
          "base_uri": "https://localhost:8080/",
          "height": 207
        }
      },
      "cell_type": "code",
      "source": [
        "model.compile(loss='binary_crossentropy',\n",
        "              optimizer=optimizers.RMSprop(lr=1e-5),\n",
        "              metrics=['acc'])\n",
        "\n",
        "history = model.fit_generator(\n",
        "      train_generator,\n",
        "      steps_per_epoch=100,\n",
        "      epochs=5,\n",
        "      validation_data=validation_generator,\n",
        "      validation_steps=50)"
      ],
      "execution_count": 0,
      "outputs": [
        {
          "output_type": "stream",
          "text": [
            "Epoch 1/5\n",
            "100/100 [==============================] - 75s 755ms/step - loss: 0.0597 - acc: 0.9815 - val_loss: 0.0027 - val_acc: 0.9990\n",
            "Epoch 2/5\n",
            "100/100 [==============================] - 74s 736ms/step - loss: 0.0116 - acc: 0.9960 - val_loss: 1.1083e-04 - val_acc: 1.0000\n",
            "Epoch 3/5\n",
            "100/100 [==============================] - 73s 727ms/step - loss: 0.0109 - acc: 0.9975 - val_loss: 2.2652e-05 - val_acc: 1.0000\n",
            "Epoch 4/5\n",
            "100/100 [==============================] - 72s 722ms/step - loss: 0.0046 - acc: 0.9995 - val_loss: 0.0014 - val_acc: 0.9990\n",
            "Epoch 5/5\n",
            "100/100 [==============================] - 72s 724ms/step - loss: 0.0010 - acc: 1.0000 - val_loss: 3.9125e-04 - val_acc: 1.0000\n"
          ],
          "name": "stdout"
        }
      ]
    },
    {
      "metadata": {
        "id": "wC8ChJb-1ivH",
        "colab_type": "code",
        "outputId": "67ed6654-e27a-4d0a-c019-9dc524c19fbf",
        "colab": {
          "base_uri": "https://localhost:8080/",
          "height": 707
        }
      },
      "cell_type": "code",
      "source": [
        "import matplotlib.pyplot as plt\n",
        "\n",
        "acc = history.history['acc']\n",
        "val_acc = history.history['val_acc']\n",
        "loss = history.history['loss']\n",
        "val_loss = history.history['val_loss']\n",
        "\n",
        "epochs = range(len(acc))\n",
        "\n",
        "plt.plot(epochs, acc, 'bo', label='Training acc')\n",
        "plt.plot(epochs, val_acc, 'b', label='Validation acc')\n",
        "plt.title('Training and validation accuracy')\n",
        "plt.legend()\n",
        "\n",
        "plt.figure()\n",
        "\n",
        "plt.plot(epochs, loss, 'bo', label='Training loss')\n",
        "plt.plot(epochs, val_loss, 'b', label='Validation loss')\n",
        "plt.title('Training and validation loss')\n",
        "plt.legend()\n",
        "\n",
        "plt.show()"
      ],
      "execution_count": 0,
      "outputs": [
        {
          "output_type": "display_data",
          "data": {
            "image/png": "[encoded data removed]",
            "text/plain": [
              "<Figure size 576x396 with 1 Axes>"
            ]
          },
          "metadata": {
            "tags": []
          }
        },
        {
          "output_type": "display_data",
          "data": {
            "image/png": "[encoded data removed]",
            "text/plain": [
              "<Figure size 576x396 with 1 Axes>"
            ]
          },
          "metadata": {
            "tags": []
          }
        }
      ]
    },
    {
      "metadata": {
        "id": "aj-dDf_N3Gm9",
        "colab_type": "code",
        "colab": {}
      },
      "cell_type": "code",
      "source": [
        "model.save('/content/drive/My Drive/facess/train/facesand cars.h5')\n"
      ],
      "execution_count": 0,
      "outputs": []
    }
  ]
}